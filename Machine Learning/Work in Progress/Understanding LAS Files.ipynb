{
 "cells": [
  {
   "cell_type": "code",
   "execution_count": 1,
   "id": "f7dd7c64",
   "metadata": {},
   "outputs": [],
   "source": [
    "import lasio\n",
    "import pandas as pd\n",
    "import numpy as np\n",
    "import matplotlib.pyplot as plt"
   ]
  },
  {
   "cell_type": "code",
   "execution_count": 2,
   "id": "5940cf52",
   "metadata": {},
   "outputs": [],
   "source": [
    "def las_column_meaning(file):\n",
    "    las = lasio.read(file)\n",
    "    for curve in las.curves:\n",
    "        print(curve.mnemonic,\"------\", curve.unit,\"------\", curve.descr,\"------\", len(curve.data))"
   ]
  },
  {
   "cell_type": "markdown",
   "id": "3fcf53c3",
   "metadata": {},
   "source": [
    "## TRM2"
   ]
  },
  {
   "cell_type": "code",
   "execution_count": 3,
   "id": "c441f2d0",
   "metadata": {},
   "outputs": [
    {
     "name": "stdout",
     "output_type": "stream",
     "text": [
      "MD ------ ft ------ {F} ------ 4220\n",
      "BOUND_WATER ------ ft3/ft3 ------ Bound Water Volume Fraction {F} ------ 4220\n",
      "CALCITE ------ ft3/ft3 ------ Calcite Volume Fraction {F} ------ 4220\n",
      "CHLORITE ------ ft3/ft3 ------ Chlorite Volume Fraction {F} ------ 4220\n",
      "DOLOMITE ------ ft3/ft3 ------ Dolomite Volume Fraction {F} ------ 4220\n",
      "DRY_WEIGHT_CALCITE ------ lbm/lbm ------ Dry Weight Fraction From Quanti.Elan {F} ------ 4220\n",
      "DRY_WEIGHT_CHLORITE ------ lbm/lbm ------ Dry Weight Fraction From Quanti.Elan {F} ------ 4220\n",
      "DRY_WEIGHT_DOLOMITE ------ lbm/lbm ------ Dry Weight Fraction From Quanti.Elan {F} ------ 4220\n",
      "DRY_WEIGHT_HEMATITE ------ lbm/lbm ------ Dry Weight Fraction From Quanti.Elan {F} ------ 4220\n",
      "DRY_WEIGHT_ILLITE ------ lbm/lbm ------ Dry Weight Fraction From Quanti.Elan {F} ------ 4220\n",
      "DRY_WEIGHT_K-FELDSPAR ------ lbm/lbm ------ Dry Weight Fraction From Quanti.Elan {F} ------ 4220\n",
      "DRY_WEIGHT_KAOLINITE ------ lbm/lbm ------ Dry Weight Fraction From Quanti.Elan {F} ------ 4220\n",
      "DRY_WEIGHT_QUARTZ ------ lbm/lbm ------ Dry Weight Fraction From Quanti.Elan {F} ------ 4220\n",
      "HEMATITE ------ ft3/ft3 ------ Hematite Volume Fraction {F} ------ 4220\n",
      "ILLITE ------ ft3/ft3 ------ Illite Volume Fraction {F} ------ 4220\n",
      "K-FELDSPAR ------ ft3/ft3 ------ Orthoclase Volume Fraction {F} ------ 4220\n",
      "KAOLINITE ------ ft3/ft3 ------ Kaolinite Volume Fraction {F} ------ 4220\n",
      "KINT_GEO ------ mD ------ Permeability (Juhasz 1979) {F} ------ 4220\n",
      "KSDR_PY ------ mD ------ {F} ------ 4220\n",
      "PHIT ------ ft3/ft3 ------ Total Porosity {F} ------ 4220\n",
      "PIGE ------ ft3/ft3 ------ Effective Porosity {F} ------ 4220\n",
      "PIGN ------ ft3/ft3 ------ Effective porosity (with irreducible water) {F} ------ 4220\n",
      "QUARTZ ------ ft3/ft3 ------ Quartz Volume Fraction {F} ------ 4220\n",
      "RHGA_GEO ------ g/cm3 ------ Apparent grain density {F} ------ 4220\n",
      "SW ------ ft3/ft3 ------ Undisturbed Zone Water Saturation {F} ------ 4220\n",
      "SWE ------ ft3/ft3 ------ Undisturbed Zone Effective Water Saturation {F} ------ 4220\n",
      "UWATER ------ ft3/ft3 ------ Undisturbed Zone Water Volume Fraction {F} ------ 4220\n",
      "VCL_GEO ------ ft3/ft3 ------ Clay fraction {F} ------ 4220\n"
     ]
    }
   ],
   "source": [
    "# ELAN\n",
    "las_column_meaning('TRM2_data/1202125650_20190118P_TRM2_Elan_Petrophysical_Analysis.las')"
   ]
  },
  {
   "cell_type": "code",
   "execution_count": 5,
   "id": "08d09515",
   "metadata": {},
   "outputs": [
    {
     "name": "stdout",
     "output_type": "stream",
     "text": [
      "MD ------ ft ------ {F} ------ 4220\n",
      "BFV_NMR ------ ft3/ft3 ------ Bound Fluid Volume {F} ------ 4220\n",
      "BFV_SIG_NMR ------ ft3/ft3 ------ Standard Deviation of Bound Fluid Volume {F} ------ 4220\n",
      "BOUND_WATER ------ ft3/ft3 ------ Bound Water Volume Fraction {F} ------ 4220\n",
      "CALCITE ------ ft3/ft3 ------ Calcite Volume Fraction {F} ------ 4220\n",
      "CHLORITE ------ ft3/ft3 ------ Chlorite Volume Fraction {F} ------ 4220\n",
      "DOLOMITE ------ ft3/ft3 ------ Dolomite Volume Fraction {F} ------ 4220\n",
      "DRY_WEIGHT_CALCITE ------ lbm/lbm ------ Dry Weight Fraction From Quanti.Elan {F} ------ 4220\n",
      "DRY_WEIGHT_CHLORITE ------ lbm/lbm ------ Dry Weight Fraction From Quanti.Elan {F} ------ 4220\n",
      "DRY_WEIGHT_DOLOMITE ------ lbm/lbm ------ Dry Weight Fraction From Quanti.Elan {F} ------ 4220\n",
      "DRY_WEIGHT_HEMATITE ------ lbm/lbm ------ Dry Weight Fraction From Quanti.Elan {F} ------ 4220\n",
      "DRY_WEIGHT_ILLITE ------ lbm/lbm ------ Dry Weight Fraction From Quanti.Elan {F} ------ 4220\n",
      "DRY_WEIGHT_K-FELDSPAR ------ lbm/lbm ------ Dry Weight Fraction From Quanti.Elan {F} ------ 4220\n",
      "DRY_WEIGHT_KAOLINITE ------ lbm/lbm ------ Dry Weight Fraction From Quanti.Elan {F} ------ 4220\n",
      "DRY_WEIGHT_QUARTZ ------ lbm/lbm ------ Dry Weight Fraction From Quanti.Elan {F} ------ 4220\n",
      "DTCO ------ us/ft ------ Compressional slowness {F} ------ 4220\n",
      "DTSH_FAST ------ us/ft ------ Shear slowness {F} ------ 4220\n",
      "DTSH_SLOW ------ us/ft ------ Shear slowness {F} ------ 4220\n",
      "FFV_NMR ------ ft3/ft3 ------ Free Fluid Volume {F} ------ 4220\n",
      "FFV_SIG_NMR ------ ft3/ft3 ------ Standard Deviation of Free Fluid Volume {F} ------ 4220\n",
      "HCGR_EC ------ gAPI ------ Computed Gamma-Ray {F} ------ 4220\n",
      "HEMATITE ------ ft3/ft3 ------ Hematite Volume Fraction {F} ------ 4220\n",
      "HFK_EC ------ % ------ Formation Potassium Concentration {F} ------ 4220\n",
      "HSGR_EC ------ gAPI ------ Total Gamma-Ray {F} ------ 4220\n",
      "HTHO_EC ------ ppm ------ Thorium Concentration {F} ------ 4220\n",
      "HURA_EC ------ ppm ------ Uranium Concentration {F} ------ 4220\n",
      "ILLITE ------ ft3/ft3 ------ Illite Volume Fraction {F} ------ 4220\n",
      "K-FELDSPAR ------ ft3/ft3 ------ Orthoclase Volume Fraction {F} ------ 4220\n",
      "KAOLINITE ------ ft3/ft3 ------ Kaolinite Volume Fraction {F} ------ 4220\n",
      "KINT_GEO ------ mD ------ Permeability (Juhasz 1979) {F} ------ 4220\n",
      "KSDR_NMR ------ mD ------ SDR Permeability {F} ------ 4220\n",
      "KSDR_PY ------ mD ------ {F} ------ 4220\n",
      "KTIM_NMR ------ mD ------ Timur/Coates Permeability {F} ------ 4220\n",
      "MBP1_NMR ------ ft3/ft3 ------ Magnetic Resonance Bin Porosity 1 {F} ------ 4220\n",
      "MBP2_NMR ------ ft3/ft3 ------ Magnetic Resonance Bin Porosity 2 {F} ------ 4220\n",
      "MBP3_NMR ------ ft3/ft3 ------ Magnetic Resonance Bin Porosity 3 {F} ------ 4220\n",
      "MBP4_NMR ------ ft3/ft3 ------ Magnetic Resonance Bin Porosity 4 {F} ------ 4220\n",
      "MBP5_NMR ------ ft3/ft3 ------ Magnetic Resonance Bin Porosity 5 {F} ------ 4220\n",
      "MBP6_NMR ------ ft3/ft3 ------ Magnetic Resonance Bin Porosity 6 {F} ------ 4220\n",
      "MBP7_NMR ------ ft3/ft3 ------ Magnetic Resonance Bin Porosity 7 {F} ------ 4220\n",
      "MBP8_NMR ------ ft3/ft3 ------ Magnetic Resonance Bin Porosity 8 {F} ------ 4220\n",
      "MRP_3MS_NMR ------ ft3/ft3 ------ Free Fluid Volume using 3-ms Cutoff {F} ------ 4220\n",
      "MRP_CMR ------ ft3/ft3 ------ Magnetic Resonance Porosity {F} ------ 4220\n",
      "NPHU_EC ------ ft3/ft3 ------ Limestone Porosity Without Salinity Correction {F} ------ 4220\n",
      "NPOR_EC ------ ft3/ft3 ------ Enhanced Thermal Neutron Porosity in Selected Matrix {F} ------ 4220\n",
      "NPOR_LIM_EC ------ ft3/ft3 ------ Enhanced Limestone Porosity {F} ------ 4220\n",
      "NPOR_SAN_EC ------ ft3/ft3 ------ Enhanced Sandstone Porosity {F} ------ 4220\n",
      "PHIT ------ ft3/ft3 ------ Total Porosity {F} ------ 4220\n",
      "PIGE ------ ft3/ft3 ------ Effective Porosity {F} ------ 4220\n",
      "PIGN ------ ft3/ft3 ------ Effective porosity (with irreducible water) {F} ------ 4220\n",
      "QUARTZ ------ ft3/ft3 ------ Quartz Volume Fraction {F} ------ 4220\n",
      "RHGA_GEO ------ g/cm3 ------ Apparent grain density {F} ------ 4220\n",
      "SW ------ ft3/ft3 ------ Undisturbed Zone Water Saturation {F} ------ 4220\n",
      "SWE ------ ft3/ft3 ------ Undisturbed Zone Effective Water Saturation {F} ------ 4220\n",
      "T1LM_CMR ------ ms ------ Logarithmic Mean of T1 Distribution {F} ------ 4220\n",
      "T2CUTOFF_NMR ------ ms ------ {F} ------ 4220\n",
      "TNPH_EC ------ ft3/ft3 ------ Corrected Thermal Neutron Porosity in Selected Matrix {F} ------ 4220\n",
      "TNPH_LIM_EC ------ ft3/ft3 ------ Limestone Porosity Corrected {F} ------ 4220\n",
      "TNPH_SAN_EC ------ ft3/ft3 ------ Sandstone Porosity Corrected {F} ------ 4220\n",
      "UWATER ------ ft3/ft3 ------ Undisturbed Zone Water Volume Fraction {F} ------ 4220\n",
      "VCL_GEO ------ ft3/ft3 ------ Clay fraction {F} ------ 4220\n"
     ]
    }
   ],
   "source": [
    "# SONIC\n",
    "las_column_meaning('TRM2_data/1202125650_20190118P_TRM2_Elan_Petrophysical_Analysis_w_EC_logs.las')"
   ]
  },
  {
   "cell_type": "code",
   "execution_count": 6,
   "id": "6211b9a3",
   "metadata": {},
   "outputs": [
    {
     "name": "stdout",
     "output_type": "stream",
     "text": [
      "MD ------ ft ------ {F} ------ 4220\n",
      "ALPH ------ unitless ------ Biot coefficient {F} ------ 4220\n",
      "BMK_DYN ------ Mpsi ------ Bulk Modulus (Dynamic) {F} ------ 4220\n",
      "BMK_STA ------ Mpsi ------ Bulk Modulus (Static) {F} ------ 4220\n",
      "DEN_COM_EXT ------ g/cm3 ------ Composite density {F} ------ 4220\n",
      "FANG ------ deg ------ Friction angle {F} ------ 4220\n",
      "MECH_LITHO ------ unitless ------ Lithology codes between 0 and 6 {F} ------ 4220\n",
      "OBMW_EXT ------ ppg ------ {F} ------ 4220\n",
      "PPRS_HP_G ------ psi ------ {F} ------ 4220\n",
      "PR_DYN ------ unitless ------ Poisson Ratio (Dynamic) {F} ------ 4220\n",
      "PR_STA ------ unitless ------ Static Poissons ratio {F} ------ 4220\n",
      "SHMAX_PHS ------ psi ------ Maximum Horizontal Stress {F} ------ 4220\n",
      "SHMIN_PHS ------ psi ------ Minimum Horizontal Stress {F} ------ 4220\n",
      "SMG_DYN ------ Mpsi ------ Shear Modulus (Dynamic) {F} ------ 4220\n",
      "SMG_STA ------ Mpsi ------ Shear Modulus (Static) {F} ------ 4220\n",
      "SVERTICAL_EXT ------ psi ------ {F} ------ 4220\n",
      "TSTR ------ Mpsi ------ Tensile Strength {F} ------ 4220\n",
      "UCS ------ Mpsi ------ Unconfined compressive strength {F} ------ 4220\n",
      "YME_DYN ------ Mpsi ------ Young's Modulus (Dynamic) {F} ------ 4220\n",
      "YME_STA ------ Mpsi ------ Static Youngs modulus {F} ------ 4220\n"
     ]
    }
   ],
   "source": [
    "# Mechanical Properties\n",
    "las_column_meaning('TRM2_data/Podolsky_T_R_McMillen2_1D_Mechanical_Properties-1.las')"
   ]
  },
  {
   "cell_type": "markdown",
   "id": "1fee52b8",
   "metadata": {},
   "source": [
    "## CCS1"
   ]
  },
  {
   "cell_type": "code",
   "execution_count": 9,
   "id": "c21a8cbe",
   "metadata": {},
   "outputs": [
    {
     "name": "stdout",
     "output_type": "stream",
     "text": [
      "DEPT ------ F ------ Depth Index ------ 13781\n",
      "RLA0 ------ OHMM ------ 1 Apparent Resistivity from Computed Focusing Mode 0 ------ 13781\n",
      "RLA1 ------ OHMM ------ 2 Apparent Resistivity from Computed Focusing Mode 1 ------ 13781\n",
      "RLA2 ------ OHMM ------ 3 Apparent Resistivity from Computed Focusing Mode 2 ------ 13781\n",
      "RLA3 ------ OHMM ------ 4 Apparent Resistivity from Computed Focusing Mode 3 ------ 13781\n",
      "RLA4 ------ OHMM ------ 5 Apparent Resistivity from Computed Focusing Mode 4 ------ 13781\n",
      "RLA5 ------ OHMM ------ 6 Apparent Resistivity from Computed Focusing Mode 5 ------ 13781\n",
      "RT_HRLT ------ OHMM ------ 7 HRLT True Formation Resistivity ------ 13781\n",
      "AT10 ------ OHMM ------ 8 AIT TWO FOOT RESISTIVITY A10 ------ 13781\n",
      "AT20 ------ OHMM ------ 9 AIT TWO FOOT RESISTIVITY A20 ------ 13781\n",
      "AT30 ------ OHMM ------ 10 AIT TWO FOOT RESISTIVITY A30 ------ 13781\n",
      "AT60 ------ OHMM ------ 11 AIT TWO FOOT RESISTIVITY A60 ------ 13781\n",
      "AT90 ------ OHMM ------ 12 AIT TWO FOOT RESISTIVITY A90 ------ 13781\n",
      "RT ------ OHMM ------ 13 True Resistivity ------ 13781\n",
      "RXOZ ------ OHMM ------ 14 Invaded Formation Resistivity filtered at 18 inches ------ 13781\n",
      "BS ------ IN ------ 15 Bit Size ------ 13781\n",
      "DCAL ------ IN ------ 16 Differential Caliper ------ 13781\n",
      "HCAL ------ IN ------ 17 HRCC Caliper Calibrated ------ 13781\n",
      "HDAR ------ IN ------ 18 Hole Diameter from Area ------ 13781\n",
      "HD1_PPC1 ------ IN ------ 19 PPC1 Hole Diameter 1 ------ 13781\n",
      "HD2_PPC1 ------ IN ------ 20 PPC1 Hole Diameter 2 ------ 13781\n",
      "TENS ------ LBS ------ 21 Cable Tension ------ 13781\n",
      "GR_EDTC ------ GAPI ------ 22 Gamma Ray ------ 13781\n",
      "NPHI ------ CFCF ------ 23 Thermal Neutron Porosity (original Ratio Method) in Selected Lithology ------ 13781\n",
      "NPOR ------ CFCF ------ 24 Enhanced Thermal Neutron Porosity in Selected Lithology ------ 13781\n",
      "PEFZ ------  ------ 25 HRDD Standard Resolution Formation Photoelectric Factor ------ 13781\n",
      "RHOZ ------ G/C3 ------ 26 HRDD Standard Resolution Formation Density ------ 13781\n",
      "DPHZ ------ CFCF ------ 27 Standard Resolution Density Porosity ------ 13781\n",
      "SPHI ------ CFCF ------ 28 Sonic Porosity ------ 13781\n",
      "VCL_HILT ------ CFCF ------ 29 Volume of Clay type Material relative to Total Volume ------ 13781\n",
      "DTCO ------ US/FT ------ 30 Delta-T Compressional ------ 13781\n",
      "DTSM ------ US/FT ------ 31 Delta-T Shear ------ 13781\n",
      "DTSM_FAST ------ US/FT ------ 32 Shear Slowness of Fast Shear Waves ------ 13781\n",
      "DTST ------ US/FT ------ 33 Delta-T Stoneley - Monopole Stoneley ------ 13781\n",
      "PR ------  ------ 34 Poisson Ratio ------ 13781\n",
      "PR_FAST ------  ------ 35 Poisson Ratio of Fast Shear Waves ------ 13781\n",
      "VPVS ------  ------ 36 Compressional to Shear Velocity Ratio ------ 13781\n",
      "VPVS_FAST ------  ------ 37 Vp/Vs Ration of fast shear waves ------ 13781\n",
      "CHR_FAST ------  ------ 38 Peak Coherence, Receiver Array - FAST ------ 13781\n",
      "CHR_XD ------  ------ 39 Peak Coherence, Receiver Array - X Dipole ------ 13781\n",
      "CHRP ------  ------ 40 Label Peak Coherence, Receiver Array, Compressional - Monopole P&S ------ 13781\n",
      "TICO ------ US ------ 41 Compressional Integrated Transit Time Channel ------ 13781\n",
      "MAXXENE_OVERALL ------  ------ 42 Overall estimate of maximum cross energy ------ 13781\n",
      "MINXENE_OVERALL ------  ------ 43 Overall estimate of minimum cross energy ------ 13781\n"
     ]
    }
   ],
   "source": [
    "las_column_meaning('CCS1_data/1211523415_20090426m_Sonic_P_and_S_Output_7240ft_350ft.las')"
   ]
  },
  {
   "cell_type": "markdown",
   "id": "dbddcbb4",
   "metadata": {},
   "source": [
    "## VW2"
   ]
  },
  {
   "cell_type": "code",
   "execution_count": 4,
   "id": "8349f00f",
   "metadata": {},
   "outputs": [
    {
     "name": "stdout",
     "output_type": "stream",
     "text": [
      "MD ------ ft ------ Measured Depth {F} ------ 14201\n",
      "BFV ------ ft3/ft3 ------ CMR Bound Fluid Volume {F} ------ 14201\n",
      "BOUND_WATER ------ v/v ------ Bound Water Volume Fraction {F} ------ 14201\n",
      "BS ------ in ------ Bit Size {F} ------ 14201\n",
      "CALCITE ------ v/v ------ Calcite Volume Fraction {F} ------ 14201\n",
      "CHLORITE ------ v/v ------ Chlorite Volume Fraction {F} ------ 14201\n",
      "DOLOMITE ------ v/v ------ Dolomite Volume Fraction {F} ------ 14201\n",
      "DRY_WEIGHT_CALCITE ------ w/w ------ Dry Weight Fraction From Quanti.Elan {F} ------ 14201\n",
      "DRY_WEIGHT_CHLORITE ------ w/w ------ Dry Weight Fraction From Quanti.Elan {F} ------ 14201\n",
      "DRY_WEIGHT_DOLOMITE ------ w/w ------ Dry Weight Fraction From Quanti.Elan {F} ------ 14201\n",
      "DRY_WEIGHT_ILLITE ------ w/w ------ Dry Weight Fraction From Quanti.Elan {F} ------ 14201\n",
      "DRY_WEIGHT_K_FELDSPAR ------ w/w ------ Dry Weight Fraction From Quanti.Elan {F} ------ 14201\n",
      "DRY_WEIGHT_KAOLINITE ------ w/w ------ Dry Weight Fraction From Quanti.Elan {F} ------ 14201\n",
      "DRY_WEIGHT_N_FELDSPAR ------ w/w ------ Dry Weight Fraction From Quanti.Elan {F} ------ 14201\n",
      "DRY_WEIGHT_PYRITE ------ w/w ------ Dry Weight Fraction From Quanti.Elan {F} ------ 14201\n",
      "DRY_WEIGHT_QUARTZ ------ w/w ------ Dry Weight Fraction From Quanti.Elan {F} ------ 14201\n",
      "DSOZ ------ in ------ HRDD Standard Resolution Density Standoff {F} ------ 14201\n",
      "GR ------ gAPI ------ Gamma-Ray {F} ------ 14201\n",
      "HCAL ------ in ------ HRCC Cal. Caliper {F} ------ 14201\n",
      "HCGR ------ gAPI ------ HNGS Computed Gamma Ray {F} ------ 14201\n",
      "HSGR ------ gAPI ------ HNGS Standard Gamma Ray {F} ------ 14201\n",
      "ILLITE ------ v/v ------ Illite Volume Fraction {F} ------ 14201\n",
      "K_FELDSPAR ------ v/v ------ Orthoclase Volume Fraction {F} ------ 14201\n",
      "KAOLINITE ------ v/v ------ Kaolinite Volume Fraction {F} ------ 14201\n",
      "KINT_GEO ------ mD ------ Permeability (Juhasz 1979) {F} ------ 14201\n",
      "KSDRBB ------ mD ------ SDR Permeability {F} ------ 14201\n",
      "N_FELDSPAR ------ v/v ------ Albite Volume Fraction {F} ------ 14201\n",
      "PEFZ ------  ------ HRDD Standard Resolution Formation Photoelectric Factor {F} ------ 14201\n",
      "PHIT ------ ft3/ft3 ------ Total Porosity {F} ------ 14201\n",
      "PIGE ------ ft3/ft3 ------ Effective Porosity {F} ------ 14201\n",
      "PIGN ------ ft3/ft3 ------ Effective porosity (with irreducible water) {F} ------ 14201\n",
      "PYRITE ------ v/v ------ Pyrite Volume Fraction {F} ------ 14201\n",
      "QUARTZ ------ v/v ------ Quartz Volume Fraction {F} ------ 14201\n",
      "RHGA_GEO ------ g/cm3 ------ Apparent grain density {F} ------ 14201\n",
      "RHOZ ------ g/cm3 ------ HRDD Standard Resolution Formation Density {F} ------ 14201\n",
      "RLA1 ------ ohm.m ------ HRLA Apparent Resistivity from Computed Focusing Mode 1 {F} ------ 14201\n",
      "RLA2 ------ ohm.m ------ HRLA Apparent Resistivity from Computed Focusing Mode 2 {F} ------ 14201\n",
      "RLA3 ------ ohm.m ------ HRLA Apparent Resistivity from Computed Focusing Mode 3 {F} ------ 14201\n",
      "RLA4 ------ ohm.m ------ HRLA Apparent Resistivity from Computed Focusing Mode 4 {F} ------ 14201\n",
      "RLA5 ------ ohm.m ------ HRLA Apparent Resistivity from Computed Focusing Mode 5 {F} ------ 14201\n",
      "RSOZ ------ in ------ MCFL Standard Resolution Resistivity Standoff {F} ------ 14201\n",
      "RXOZ ------ ohm.m ------ MCFL Standard Resolution Invaded Zone Resistivity {F} ------ 14201\n",
      "SW ------ ft3/ft3 ------ Undisturbed Zone Water Saturation {F} ------ 14201\n",
      "SXO ------ ft3/ft3 ------ Flushed Zone Water Saturation {F} ------ 14201\n",
      "T2CUTOFF ------ ms ------ T2 Cutoff {F} ------ 14201\n",
      "T2LM ------ ms ------ T2 Logarithmic Mean {F} ------ 14201\n",
      "TCMR ------ ft3/ft3 ------ Total CMR Porosity {F} ------ 14201\n",
      "TNPH_LIM ------ ft3/ft3 ------ Enhanced Thermal Neutron Porosity Limestone Matrix {F} ------ 14201\n",
      "TNPH_SAN ------ ft3/ft3 ------ Enhanced Thermal Neutron Porosity Sandstone Matrix {F} ------ 14201\n",
      "UGAS ------ v/v ------ Undisturbed Zone Gas Volume Fraction {F} ------ 14201\n",
      "UIWATER ------ v/v ------ Undisturbed Zone Irreducible Water Volume Fraction {F} ------ 14201\n",
      "UOIL ------ v/v ------ Undisturbed Zone Oil Volume Fraction {F} ------ 14201\n",
      "UWATER ------ v/v ------ Undisturbed Zone Water Volume Fraction {F} ------ 14201\n",
      "UZ ------  ------ HRDD Standard Resolution Volumetric Photoelectric Factor {F} ------ 14201\n",
      "XGAS ------ v/v ------ Flushed Zone Gas Volume Fraction {F} ------ 14201\n",
      "XIWATER ------ v/v ------ Flushed Zone Irreducible Water Volume Fraction {F} ------ 14201\n",
      "XOIL ------ v/v ------ Flushed Zone Oil Volume Fraction {F} ------ 14201\n",
      "XWATER ------ v/v ------ Flushed Zone Water Volume Fraction {F} ------ 14201\n"
     ]
    }
   ],
   "source": [
    "las_column_meaning('VW2_data/1211523552_20121030_ELAN_iteration_v20160209.las')"
   ]
  },
  {
   "cell_type": "code",
   "execution_count": 6,
   "id": "5f745549",
   "metadata": {},
   "outputs": [
    {
     "name": "stdout",
     "output_type": "stream",
     "text": [
      "DEPT ------ F ------ Depth Index ------ 4357\n",
      "RLA0 ------ OHMM ------ 1 Apparent Resistivity from Computed Focusing Mode 0 ------ 4357\n",
      "RLA1 ------ OHMM ------ 2 Apparent Resistivity from Computed Focusing Mode 1 ------ 4357\n",
      "RLA2 ------ OHMM ------ 3 Apparent Resistivity from Computed Focusing Mode 2 ------ 4357\n",
      "RLA3 ------ OHMM ------ 4 Apparent Resistivity from Computed Focusing Mode 3 ------ 4357\n",
      "RLA4 ------ OHMM ------ 5 Apparent Resistivity from Computed Focusing Mode 4 ------ 4357\n",
      "RLA5 ------ OHMM ------ 6 Apparent Resistivity from Computed Focusing Mode 5 ------ 4357\n",
      "RXOZ ------ OHMM ------ 7 Invaded Formation Resistivity filtered at 18 inches ------ 4357\n",
      "BS ------ IN ------ 8 Bit Size ------ 4357\n",
      "DCAL ------ IN ------ 9 Differential Caliper ------ 4357\n",
      "HCAL ------ IN ------ 10 HRCC Caliper Calibrated ------ 4357\n",
      "HDAR ------ IN ------ 11 Hole Diameter from Area ------ 4357\n",
      "HD1_PPC1 ------ IN ------ 12 PPC1 Hole Diameter 1 ------ 4357\n",
      "HD2_PPC1 ------ IN ------ 13 PPC1 Hole Diameter 2 ------ 4357\n",
      "TENS ------ LBS ------ 14 Cable Tension ------ 4357\n",
      "GR_EDTC ------ GAPI ------ 15 Gamma Ray ------ 4357\n",
      "NPHI ------ CFCF ------ 16 Thermal Neutron Porosity (original Ratio Method) in Selected Lithology ------ 4357\n",
      "NPOR ------ CFCF ------ 17 Enhanced Thermal Neutron Porosity in Selected Lithology ------ 4357\n",
      "PEFZ ------  ------ 18 HRDD Standard Resolution Formation Photoelectric Factor ------ 4357\n",
      "RHOZ ------ G/C3 ------ 19 HRDD Standard Resolution Formation Density ------ 4357\n",
      "DPHZ ------ CFCF ------ 20 Standard Resolution Density Porosity ------ 4357\n",
      "SPHI ------ CFCF ------ 21 Sonic Porosity ------ 4357\n",
      "VCL_HILT ------ CFCF ------ 22 Volume of Clay type Material relative to Total Volume ------ 4357\n",
      "DTCO ------ US/FT ------ 23 Delta-T Compressional ------ 4357\n",
      "DTSM ------ US/FT ------ 24 Delta-T Shear ------ 4357\n",
      "PR ------  ------ 25 Poisson Ratio ------ 4357\n",
      "VPVS ------  ------ 26 Compressional to Shear Velocity Ratio ------ 4357\n",
      "CHR_FAST ------  ------ 27 Peak Coherence, Receiver Array - FAST ------ 4357\n",
      "CHRP ------  ------ 28 Label Peak Coherence, Receiver Array, Compressional - Monopole P&S ------ 4357\n",
      "TICO ------ US ------ 29 Compressional Integrated Transit Time Channel ------ 4357\n",
      "FLAG ------  ------ 30 General Indicator Flag ------ 4357\n"
     ]
    }
   ],
   "source": [
    "las_column_meaning('VW2_data/1211523552_20121031_Sonic_PNS.las')"
   ]
  },
  {
   "cell_type": "code",
   "execution_count": null,
   "id": "40919408",
   "metadata": {},
   "outputs": [],
   "source": []
  },
  {
   "cell_type": "code",
   "execution_count": null,
   "id": "905a20ab",
   "metadata": {},
   "outputs": [],
   "source": []
  },
  {
   "cell_type": "code",
   "execution_count": null,
   "id": "609b8e1d",
   "metadata": {},
   "outputs": [],
   "source": []
  },
  {
   "cell_type": "code",
   "execution_count": null,
   "id": "bf52b652",
   "metadata": {},
   "outputs": [],
   "source": []
  },
  {
   "cell_type": "code",
   "execution_count": null,
   "id": "7e9f2197",
   "metadata": {},
   "outputs": [],
   "source": []
  },
  {
   "cell_type": "code",
   "execution_count": null,
   "id": "eedf4a3d",
   "metadata": {},
   "outputs": [],
   "source": []
  }
 ],
 "metadata": {
  "kernelspec": {
   "display_name": "Python 3 (ipykernel)",
   "language": "python",
   "name": "python3"
  },
  "language_info": {
   "codemirror_mode": {
    "name": "ipython",
    "version": 3
   },
   "file_extension": ".py",
   "mimetype": "text/x-python",
   "name": "python",
   "nbconvert_exporter": "python",
   "pygments_lexer": "ipython3",
   "version": "3.11.5"
  }
 },
 "nbformat": 4,
 "nbformat_minor": 5
}
